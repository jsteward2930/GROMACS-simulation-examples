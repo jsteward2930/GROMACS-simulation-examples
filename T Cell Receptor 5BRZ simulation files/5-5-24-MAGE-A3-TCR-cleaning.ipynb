{
 "cells": [
  {
   "cell_type": "code",
   "execution_count": 1,
   "metadata": {},
   "outputs": [
    {
     "name": "stdout",
     "output_type": "stream",
     "text": [
      "Cleaned PDB file saved as 5BRZ_cleaned.pdb\n"
     ]
    },
    {
     "name": "stderr",
     "output_type": "stream",
     "text": [
      "/opt/anaconda3/lib/python3.11/site-packages/Bio/PDB/StructureBuilder.py:89: PDBConstructionWarning: WARNING: Chain A is discontinuous at line 13943.\n",
      "  warnings.warn(\n",
      "/opt/anaconda3/lib/python3.11/site-packages/Bio/PDB/StructureBuilder.py:89: PDBConstructionWarning: WARNING: Chain B is discontinuous at line 13953.\n",
      "  warnings.warn(\n",
      "/opt/anaconda3/lib/python3.11/site-packages/Bio/PDB/StructureBuilder.py:89: PDBConstructionWarning: WARNING: Chain D is discontinuous at line 13958.\n",
      "  warnings.warn(\n",
      "/opt/anaconda3/lib/python3.11/site-packages/Bio/PDB/StructureBuilder.py:89: PDBConstructionWarning: WARNING: Chain E is discontinuous at line 13968.\n",
      "  warnings.warn(\n",
      "/opt/anaconda3/lib/python3.11/site-packages/Bio/PDB/StructureBuilder.py:89: PDBConstructionWarning: WARNING: Chain A is discontinuous at line 13978.\n",
      "  warnings.warn(\n",
      "/opt/anaconda3/lib/python3.11/site-packages/Bio/PDB/StructureBuilder.py:89: PDBConstructionWarning: WARNING: Chain B is discontinuous at line 13987.\n",
      "  warnings.warn(\n",
      "/opt/anaconda3/lib/python3.11/site-packages/Bio/PDB/StructureBuilder.py:89: PDBConstructionWarning: WARNING: Chain C is discontinuous at line 13988.\n",
      "  warnings.warn(\n",
      "/opt/anaconda3/lib/python3.11/site-packages/Bio/PDB/StructureBuilder.py:89: PDBConstructionWarning: WARNING: Chain E is discontinuous at line 13989.\n",
      "  warnings.warn(\n"
     ]
    }
   ],
   "source": [
    "from Bio import PDB\n",
    "from Bio.PDB import PDBIO, Select\n",
    "\n",
    "class ResidueSelect(Select):\n",
    "    def accept_residue(self, residue):\n",
    "        if residue.get_id()[0] == \" \":\n",
    "            return True\n",
    "        elif residue.get_id()[0] == \"W\":\n",
    "            return False\n",
    "        else:\n",
    "            return False\n",
    "\n",
    "# Load the PDB file\n",
    "parser = PDB.PDBParser()\n",
    "structure = parser.get_structure(\"5BRZ\", \"5BRZ.pdb\")\n",
    "\n",
    "# Remove water molecules and additional ligands\n",
    "for model in structure:\n",
    "    for chain in model:\n",
    "        for residue in list(chain):\n",
    "            if residue.get_id()[0] != \" \":\n",
    "                chain.detach_child(residue.get_id())\n",
    "\n",
    "# Remove incorrect residues\n",
    "io = PDBIO()\n",
    "io.set_structure(structure)\n",
    "io.save(\"5BRZ_cleaned.pdb\", ResidueSelect())\n",
    "\n",
    "print(\"Cleaned PDB file saved as 5BRZ_cleaned.pdb\")"
   ]
  }
 ],
 "metadata": {
  "kernelspec": {
   "display_name": "base",
   "language": "python",
   "name": "python3"
  },
  "language_info": {
   "codemirror_mode": {
    "name": "ipython",
    "version": 3
   },
   "file_extension": ".py",
   "mimetype": "text/x-python",
   "name": "python",
   "nbconvert_exporter": "python",
   "pygments_lexer": "ipython3",
   "version": "3.11.7"
  }
 },
 "nbformat": 4,
 "nbformat_minor": 2
}
